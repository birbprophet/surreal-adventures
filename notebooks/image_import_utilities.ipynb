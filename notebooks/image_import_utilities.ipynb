{
 "cells": [
  {
   "cell_type": "code",
   "execution_count": 4,
   "metadata": {},
   "outputs": [
    {
     "name": "stdout",
     "output_type": "stream",
     "text": [
      "import img_0 from \"../../../ae_projects/hero_animation/bodymovin/images/img_0.png\"\n",
      "import img_1 from \"../../../ae_projects/hero_animation/bodymovin/images/img_1.png\"\n",
      "import img_2 from \"../../../ae_projects/hero_animation/bodymovin/images/img_2.png\"\n",
      "import img_3 from \"../../../ae_projects/hero_animation/bodymovin/images/img_3.png\"\n",
      "import img_4 from \"../../../ae_projects/hero_animation/bodymovin/images/img_4.png\"\n",
      "import img_5 from \"../../../ae_projects/hero_animation/bodymovin/images/img_5.png\"\n",
      "import img_6 from \"../../../ae_projects/hero_animation/bodymovin/images/img_6.png\"\n",
      "import img_7 from \"../../../ae_projects/hero_animation/bodymovin/images/img_7.png\"\n",
      "import img_8 from \"../../../ae_projects/hero_animation/bodymovin/images/img_8.png\"\n",
      "import img_9 from \"../../../ae_projects/hero_animation/bodymovin/images/img_9.png\"\n",
      "import img_10 from \"../../../ae_projects/hero_animation/bodymovin/images/img_10.png\"\n",
      "import img_11 from \"../../../ae_projects/hero_animation/bodymovin/images/img_11.png\"\n",
      "import img_12 from \"../../../ae_projects/hero_animation/bodymovin/images/img_12.png\"\n",
      "import img_13 from \"../../../ae_projects/hero_animation/bodymovin/images/img_13.png\"\n",
      "import img_14 from \"../../../ae_projects/hero_animation/bodymovin/images/img_14.png\"\n",
      "import img_15 from \"../../../ae_projects/hero_animation/bodymovin/images/img_15.png\"\n",
      "import img_16 from \"../../../ae_projects/hero_animation/bodymovin/images/img_16.png\"\n",
      "import img_17 from \"../../../ae_projects/hero_animation/bodymovin/images/img_17.png\"\n",
      "import img_18 from \"../../../ae_projects/hero_animation/bodymovin/images/img_18.png\"\n",
      "import img_19 from \"../../../ae_projects/hero_animation/bodymovin/images/img_19.png\"\n",
      "import img_20 from \"../../../ae_projects/hero_animation/bodymovin/images/img_20.png\"\n",
      "import img_21 from \"../../../ae_projects/hero_animation/bodymovin/images/img_21.png\"\n",
      "import img_22 from \"../../../ae_projects/hero_animation/bodymovin/images/img_22.png\"\n",
      "import img_23 from \"../../../ae_projects/hero_animation/bodymovin/images/img_23.png\"\n",
      "import img_24 from \"../../../ae_projects/hero_animation/bodymovin/images/img_24.png\"\n",
      "import img_25 from \"../../../ae_projects/hero_animation/bodymovin/images/img_25.png\"\n",
      "import img_26 from \"../../../ae_projects/hero_animation/bodymovin/images/img_26.png\"\n",
      "import img_27 from \"../../../ae_projects/hero_animation/bodymovin/images/img_27.png\"\n",
      "import img_28 from \"../../../ae_projects/hero_animation/bodymovin/images/img_28.png\"\n",
      "import img_29 from \"../../../ae_projects/hero_animation/bodymovin/images/img_29.png\"\n",
      "import img_30 from \"../../../ae_projects/hero_animation/bodymovin/images/img_30.png\"\n",
      "import img_31 from \"../../../ae_projects/hero_animation/bodymovin/images/img_31.png\"\n",
      "import img_32 from \"../../../ae_projects/hero_animation/bodymovin/images/img_32.png\"\n",
      "import img_33 from \"../../../ae_projects/hero_animation/bodymovin/images/img_33.png\"\n",
      "import img_34 from \"../../../ae_projects/hero_animation/bodymovin/images/img_34.png\"\n",
      "import img_35 from \"../../../ae_projects/hero_animation/bodymovin/images/img_35.png\"\n",
      "import img_36 from \"../../../ae_projects/hero_animation/bodymovin/images/img_36.png\"\n",
      "import img_37 from \"../../../ae_projects/hero_animation/bodymovin/images/img_37.png\"\n",
      "import img_38 from \"../../../ae_projects/hero_animation/bodymovin/images/img_38.png\"\n",
      "import img_39 from \"../../../ae_projects/hero_animation/bodymovin/images/img_39.png\"\n",
      "import img_40 from \"../../../ae_projects/hero_animation/bodymovin/images/img_40.png\"\n",
      "import img_41 from \"../../../ae_projects/hero_animation/bodymovin/images/img_41.png\"\n",
      "import img_42 from \"../../../ae_projects/hero_animation/bodymovin/images/img_42.png\"\n",
      "import img_43 from \"../../../ae_projects/hero_animation/bodymovin/images/img_43.png\"\n",
      "import img_44 from \"../../../ae_projects/hero_animation/bodymovin/images/img_44.png\"\n",
      "import img_45 from \"../../../ae_projects/hero_animation/bodymovin/images/img_45.png\"\n",
      "import img_46 from \"../../../ae_projects/hero_animation/bodymovin/images/img_46.png\"\n",
      "import img_47 from \"../../../ae_projects/hero_animation/bodymovin/images/img_47.png\"\n",
      "import img_48 from \"../../../ae_projects/hero_animation/bodymovin/images/img_48.png\"\n"
     ]
    }
   ],
   "source": [
    "string = '''import img_{number} from \"../../../ae_projects/hero_animation/bodymovin/images/img_{number}.png\"'''\n",
    "for i in range(49):\n",
    "    print(string.format(number=str(i)))"
   ]
  },
  {
   "cell_type": "code",
   "execution_count": null,
   "metadata": {},
   "outputs": [],
   "source": []
  }
 ],
 "metadata": {
  "kernelspec": {
   "display_name": "Python 3",
   "language": "python",
   "name": "python3"
  },
  "language_info": {
   "codemirror_mode": {
    "name": "ipython",
    "version": 3
   },
   "file_extension": ".py",
   "mimetype": "text/x-python",
   "name": "python",
   "nbconvert_exporter": "python",
   "pygments_lexer": "ipython3",
   "version": "3.7.3"
  }
 },
 "nbformat": 4,
 "nbformat_minor": 2
}
